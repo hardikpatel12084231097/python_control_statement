{
 "cells": [
  {
   "cell_type": "markdown",
   "id": "fb936b6b",
   "metadata": {},
   "source": [
    "### Write a Python program to find maximum between two numbers."
   ]
  },
  {
   "cell_type": "code",
   "execution_count": 3,
   "id": "ace5f787",
   "metadata": {},
   "outputs": [
    {
     "name": "stdout",
     "output_type": "stream",
     "text": [
      "30 is max\n"
     ]
    }
   ],
   "source": [
    "a=20\n",
    "b=30\n",
    "if a>b:\n",
    "    print(a,\"is max\")\n",
    "elif a==b:\n",
    "    print(\"both are equal\")\n",
    "else:\n",
    "    print(b,\"is max\")\n",
    "    "
   ]
  },
  {
   "cell_type": "code",
   "execution_count": 5,
   "id": "e66ea3cb",
   "metadata": {},
   "outputs": [
    {
     "name": "stdout",
     "output_type": "stream",
     "text": [
      "Enter number -1=33\n",
      "Enter number -2=44\n",
      "44 is max\n",
      "All are Done !\n"
     ]
    }
   ],
   "source": [
    "number1=int(input(\"Enter number -1=\"))\n",
    "number2=int(input(\"Enter number -2=\"))\n",
    "if number1>number2:\n",
    "    print(number1,\"is max\")\n",
    "elif number1>number2:\n",
    "    print(number2,\"is max\")\n",
    "else:\n",
    "    print(number2,\"is max\")\n",
    "print(\"All are Done !\")"
   ]
  },
  {
   "cell_type": "markdown",
   "id": "8c3125bf",
   "metadata": {},
   "source": [
    "### Write a Python program to find maximum between three numbers."
   ]
  },
  {
   "cell_type": "code",
   "execution_count": 6,
   "id": "a3629f20",
   "metadata": {},
   "outputs": [
    {
     "name": "stdout",
     "output_type": "stream",
     "text": [
      "Enter number -1=22\n",
      "Enter number -2=33\n",
      "Enter number -3=44\n",
      "44 is max\n",
      "All are Done !\n"
     ]
    }
   ],
   "source": [
    "number1=int(input(\"Enter number -1=\"))\n",
    "number2=int(input(\"Enter number -2=\"))\n",
    "number3=int(input(\"Enter number -3=\"))\n",
    "if (number1>number2) and (number1>number3):\n",
    "    print(number1,\"is max\")\n",
    "elif (number2>number3) and (number2>number1):\n",
    "    print(number2,\"is max\")\n",
    "elif number1==number2==number3:\n",
    "    print(\"All are equal\")\n",
    "else:\n",
    "    print(number3,\"is max\")\n",
    "print(\"All are Done !\")"
   ]
  },
  {
   "cell_type": "markdown",
   "id": "1b0541ef",
   "metadata": {},
   "source": [
    "### Write a Python program to check whether a number is negative, positive or zero."
   ]
  },
  {
   "cell_type": "code",
   "execution_count": 9,
   "id": "a4998d4f",
   "metadata": {},
   "outputs": [
    {
     "name": "stdout",
     "output_type": "stream",
     "text": [
      "Enter any number=0\n",
      "0 is equal to zero\n"
     ]
    }
   ],
   "source": [
    "number=int(input(\"Enter any number=\"))\n",
    "if number>0:\n",
    "    print(number,\"is positive\")\n",
    "elif number<0:\n",
    "    print(number,\"is negative\")\n",
    "else:\n",
    "    print(number,\"is equal to zero\")"
   ]
  },
  {
   "cell_type": "markdown",
   "id": "faadeef8",
   "metadata": {},
   "source": [
    "### Write a Python program to find number is even or odd"
   ]
  },
  {
   "cell_type": "code",
   "execution_count": 11,
   "id": "017dd350",
   "metadata": {},
   "outputs": [
    {
     "name": "stdout",
     "output_type": "stream",
     "text": [
      "Enter any number=10\n",
      "10 number is even\n",
      "All is Done\n"
     ]
    }
   ],
   "source": [
    "number=int(input(\"Enter any number=\"))\n",
    "if number%2==0:\n",
    "    print(number,\"number is even\")\n",
    "else:\n",
    "    print(number,\"number is odd\")\n",
    "print(\"All is Done\")"
   ]
  },
  {
   "cell_type": "markdown",
   "id": "48866686",
   "metadata": {},
   "source": [
    "### Write a Python program to find sugar level"
   ]
  },
  {
   "cell_type": "code",
   "execution_count": 15,
   "id": "139361c9",
   "metadata": {},
   "outputs": [
    {
     "name": "stdout",
     "output_type": "stream",
     "text": [
      "Enter sugar level=155\n",
      "155 your sugar level is high please contact any Doctor\n",
      "All is Done\n"
     ]
    }
   ],
   "source": [
    "sugar_level=int(input(\"Enter sugar level=\"))\n",
    "\n",
    "if sugar_level<=70:\n",
    "    print(sugar_level,\"your sugar level is low\")\n",
    "elif sugar_level>=130:\n",
    "    print(sugar_level,\"your sugar level is high please contact any Doctor\")\n",
    "else:\n",
    "     print(sugar_level,\"Relax your sugar level is normal\")\n",
    "        \n",
    "print(\"All is Done\")   "
   ]
  },
  {
   "cell_type": "markdown",
   "id": "0c0660a2",
   "metadata": {},
   "source": [
    "### Write a Python program find value is available in list"
   ]
  },
  {
   "cell_type": "code",
   "execution_count": 18,
   "id": "5a68b0f7",
   "metadata": {},
   "outputs": [
    {
     "name": "stdout",
     "output_type": "stream",
     "text": [
      "Enter any city=pune\n",
      "your city name is not available in our list\n",
      "All is Done\n"
     ]
    }
   ],
   "source": [
    "city=input(\"Enter any city=\")\n",
    "india=['gujarat','banglor','mumbai']\n",
    "pakistan=['dhaka','lahore','karanchi']\n",
    "bangladesh=['rangpur','gajipur','saidpur']\n",
    "\n",
    "if city in india:\n",
    "    print(city,\"is available in india\")\n",
    "elif city in pakistan:\n",
    "    print(city,\"is available in pakistan\")\n",
    "elif city in bangladesh:\n",
    "    print(city,\"is available in bangladesh\")\n",
    "else:\n",
    "    print(\"your city name is not available in our list\")\n",
    "print(\"All is Done\") "
   ]
  },
  {
   "cell_type": "code",
   "execution_count": 20,
   "id": "dc654517",
   "metadata": {},
   "outputs": [
    {
     "name": "stdout",
     "output_type": "stream",
     "text": [
      "Enter any city1=gujarat\n",
      "Enter any city2=mumbai\n",
      "gujarat mumbai both available in india\n",
      "All is Done\n"
     ]
    }
   ],
   "source": [
    "city1=input(\"Enter any city1=\")\n",
    "city2=input(\"Enter any city2=\")\n",
    "india=['gujarat','banglor','mumbai']\n",
    "pakistan=['dhaka','lahore','karanchi']\n",
    "bangladesh=['rangpur','gajipur','saidpur']\n",
    "\n",
    "if city1 in india and city2 in india:\n",
    "    print(city1,city2,\"both available in india\")\n",
    "elif city1 in pakistan and city2 in pakistan:\n",
    "    print(city1,city2,\"both available in pakistan\")\n",
    "elif city1 in bangladesh and city2 in bangladesh:\n",
    "    print(city1,city2,\" available in bangladesh\")\n",
    "else:\n",
    "    print(\"your city name both are not same\")\n",
    "print(\"All is Done\")"
   ]
  },
  {
   "cell_type": "markdown",
   "id": "d46f4996",
   "metadata": {},
   "source": [
    "### Write a Python program to check whether a number is divisible by 5 and 11 or not."
   ]
  },
  {
   "cell_type": "code",
   "execution_count": 24,
   "id": "2d953661",
   "metadata": {},
   "outputs": [
    {
     "name": "stdout",
     "output_type": "stream",
     "text": [
      "Enter any number66\n",
      "66 number is not divisible by 5 or 11\n",
      "All is Done\n"
     ]
    }
   ],
   "source": [
    "number=int(input(\"Enter any number\"))\n",
    "\n",
    "if (number%5==0 and number%11==0):\n",
    "    print(number,\"number is divisible by 5 or 11\")\n",
    "else:\n",
    "    print(number,\"number is not divisible by 5 or 11\")\n",
    "print(\"All is Done\")    "
   ]
  },
  {
   "cell_type": "markdown",
   "id": "c79bd417",
   "metadata": {},
   "source": [
    "### Write a Python program to check whether a year is leap year or not."
   ]
  },
  {
   "cell_type": "code",
   "execution_count": 26,
   "id": "d15815f4",
   "metadata": {},
   "outputs": [
    {
     "name": "stdout",
     "output_type": "stream",
     "text": [
      "enter any year=2021\n",
      "2021 is not leap year\n"
     ]
    }
   ],
   "source": [
    "year=int(input(\"enter any year=\"))\n",
    "\n",
    "if year%400==0 and year%100==0:\n",
    "    print(year,\"is leap year\")\n",
    "elif year%4==0 and year%100!=0:\n",
    "    print(year,\"is leap year\")   \n",
    "else:\n",
    "     print(year,\"is not leap year\")   "
   ]
  },
  {
   "cell_type": "markdown",
   "id": "d417bc99",
   "metadata": {},
   "source": [
    "### Write a Python program to check whether a character is alphabet or not."
   ]
  },
  {
   "cell_type": "code",
   "execution_count": 3,
   "id": "1f86a48d",
   "metadata": {},
   "outputs": [
    {
     "name": "stdout",
     "output_type": "stream",
     "text": [
      "enter any character=S\n",
      "S is not alphabet\n",
      "All is Done\n"
     ]
    }
   ],
   "source": [
    "character=input(\"enter any character=\")\n",
    "\n",
    "if (character>='a' and character<='z') or (character>='A' and character<='Z') \n",
    "    print(character,\"is alphabet\")\n",
    "else:\n",
    "     print(character,\"is not alphabet\")\n",
    "print(\"All is Done\")"
   ]
  },
  {
   "cell_type": "markdown",
   "id": "810ed5ec",
   "metadata": {},
   "source": [
    "### Write a Python program to input any alphabet and check whether it is vowel or consonant."
   ]
  },
  {
   "cell_type": "code",
   "execution_count": 39,
   "id": "d8bb9d50",
   "metadata": {},
   "outputs": [
    {
     "name": "stdout",
     "output_type": "stream",
     "text": [
      "enter any alphabet=q\n",
      "q character is constant\n"
     ]
    }
   ],
   "source": [
    "char=input(\"enter any alphabet=\")\n",
    "vowel=['a','e','i','o','u']\n",
    "if char in vowel:\n",
    "    print(char,\"character is vovels\")\n",
    "else:\n",
    "     print(char,\"character is constant\")"
   ]
  },
  {
   "cell_type": "markdown",
   "id": "5cb73471",
   "metadata": {},
   "source": [
    "### Write a Python program to input any character and check whether it is alphabet, digit or special character."
   ]
  },
  {
   "cell_type": "code",
   "execution_count": 49,
   "id": "465492b0",
   "metadata": {},
   "outputs": [
    {
     "name": "stdout",
     "output_type": "stream",
     "text": [
      "enter any character=#\n",
      "# is symbol\n",
      "All is Done\n"
     ]
    }
   ],
   "source": [
    "character=(input(\"enter any character=\"))\n",
    "\n",
    "if (character>='a' and character<='z') or (character>='A' and character<='Z'):\n",
    "    print(character,\"is alphabet\")\n",
    "elif (character>='0' and character<='9'):\n",
    "    print(character,\"is digit\")  \n",
    "else:\n",
    "     print(character,\"is symbol\")\n",
    "print(\"All is Done\")"
   ]
  },
  {
   "cell_type": "code",
   "execution_count": 27,
   "id": "62dca962",
   "metadata": {},
   "outputs": [
    {
     "name": "stdout",
     "output_type": "stream",
     "text": [
      "enter password=:1$Hwsed\n",
      "valid password\n"
     ]
    }
   ],
   "source": [
    "password = input(\"enter password=:\")\n",
    "\n",
    "if (len(password)>8):\n",
    "        print(\"please enter password between 8 character\")       \n",
    "elif not(\"[a-z]\", password):\n",
    "         print(\"invalid password\")\n",
    "elif not(\"[A-Z]\", password):\n",
    "         print(\"invalid password\")\n",
    "elif not(\"[0-9]\", password):\n",
    "         print(\"invalid password\")\n",
    "elif not(\"[_@&]\", password):\n",
    "         print(\"invalid password\")\n",
    "elif not(\"\\s\", password):   # not use space in password  use \\s\n",
    "         print(\"invalid password\")\n",
    "else:\n",
    "    print(\"Your Password is Strong...\")\n",
    "     \n",
    "    "
   ]
  },
  {
   "cell_type": "markdown",
   "id": "78f5c9c9",
   "metadata": {},
   "source": [
    "### Write a python program of create small calculator"
   ]
  },
  {
   "cell_type": "code",
   "execution_count": 5,
   "id": "7d5e677d",
   "metadata": {},
   "outputs": [
    {
     "name": "stdout",
     "output_type": "stream",
     "text": [
      "Enter a number 1:=4\n",
      "Enter a number 2:=2\n",
      "Enter any operation such as +,_,/,*/\n",
      "2.0\n"
     ]
    }
   ],
   "source": [
    "number1=int(input(\"Enter a number 1:=\"))\n",
    "number2=int(input(\"Enter a number 2:=\"))\n",
    "operation=input(\"Enter any operation such as +,_,/,*\")\n",
    "\n",
    "if operation=='+':\n",
    "    print(number1+number2)\n",
    "elif operation=='-':\n",
    "     print(number1-number2)\n",
    "elif operation=='*':\n",
    "     print(number1*number2)\n",
    "elif operation=='/':\n",
    "     print(number1/number2)\n",
    "elif operation=='%':\n",
    "     print(number1%number2)\n",
    "else:\n",
    "    print(\"your choice is wrong\")\n",
    "        "
   ]
  },
  {
   "cell_type": "markdown",
   "id": "bff483b1",
   "metadata": {},
   "source": [
    "### Write a Python program to input week number and print week day."
   ]
  },
  {
   "cell_type": "code",
   "execution_count": 30,
   "id": "969676e5",
   "metadata": {},
   "outputs": [
    {
     "name": "stdout",
     "output_type": "stream",
     "text": [
      "Enter any week number=1\n",
      "mon\n"
     ]
    }
   ],
   "source": [
    "week_number=int(input(\"Enter any week number=\"))\n",
    "list=['sun','mon','tue','wed','thu','fri','sat']\n",
    "print(list[week_number])"
   ]
  },
  {
   "cell_type": "markdown",
   "id": "b84e912b",
   "metadata": {},
   "source": [
    "### Write a Python program to input month number and print number of days in that month."
   ]
  },
  {
   "cell_type": "code",
   "execution_count": 43,
   "id": "01ff1eb9",
   "metadata": {},
   "outputs": [
    {
     "name": "stdout",
     "output_type": "stream",
     "text": [
      "Enter any month number=2\n",
      "Enter any year=2022\n",
      "Number of days is 28\n"
     ]
    }
   ],
   "source": [
    "Month=int(input(\"Enter any month number=\"))\n",
    "Year=int(input(\"Enter any year=\"))\n",
    "if (Month==2 and Year%400==0) and (Year%4==0 and Year!=100):\n",
    "  print('Number of days is 29')\n",
    "\n",
    "elif Month==2:\n",
    "    print('Number of days is 28')\n",
    "    \n",
    "elif Month==1 or Month==3 or Month==5 or Month==7 or Month==8 or Month==10 or Month==12:\n",
    "    print(\"Number of days is 31\")\n",
    "else:\n",
    "    print(\"Number of days is 30\")"
   ]
  },
  {
   "cell_type": "markdown",
   "id": "69bd03c9",
   "metadata": {},
   "source": [
    "### Write a Python program to calculate profit or loss."
   ]
  },
  {
   "cell_type": "code",
   "execution_count": 9,
   "id": "9244479a",
   "metadata": {},
   "outputs": [
    {
     "name": "stdout",
     "output_type": "stream",
     "text": [
      " Please Enter the Actual Product Price: 1500\n",
      " Please Enter the Sales Amount: 1200\n",
      "your loss is=300.0\n"
     ]
    }
   ],
   "source": [
    "actual_cost = float(input(\" Please Enter the Actual Product Price: \"))\n",
    "sale_amount = float(input(\" Please Enter the Sales Amount: \"))\n",
    "\n",
    "if actual_cost<sale_amount:\n",
    "    profit=sale_amount-actual_cost\n",
    "    print(f\"your profit is={profit}\")\n",
    "elif actual_cost>sale_amount:\n",
    "    loss=actual_cost-sale_amount\n",
    "    print(f\"your loss is={loss}\")"
   ]
  },
  {
   "cell_type": "markdown",
   "id": "62ea505e",
   "metadata": {},
   "source": [
    "### Write a Python program to input angles of a triangle and check whether triangle is valid or not."
   ]
  },
  {
   "cell_type": "code",
   "execution_count": 12,
   "id": "f7722014",
   "metadata": {},
   "outputs": [
    {
     "name": "stdout",
     "output_type": "stream",
     "text": [
      "Please Enter the First Angle of a Triangle: 60\n",
      "Please Enter the Second Angle of a Triangle: 60\n",
      "Please Enter the Third Angle of a Triangle: 60\n",
      "tringle is valid\n"
     ]
    }
   ],
   "source": [
    "a = int(input('Please Enter the First Angle of a Triangle: '))\n",
    "b = int(input('Please Enter the Second Angle of a Triangle: '))\n",
    "c = int(input('Please Enter the Third Angle of a Triangle: '))\n",
    "\n",
    "total=a+b+c\n",
    "\n",
    "if total==180:\n",
    "    print(\"tringle is valid\")\n",
    "else:\n",
    "    print(\"tringle is not valid\")"
   ]
  },
  {
   "cell_type": "markdown",
   "id": "3e9aa95c",
   "metadata": {},
   "source": [
    "### Write a Python program to input marks of five subjects Physics, Chemistry, Biology, Mathematics and Computer. Calculate percentage and grade according to following: "
   ]
  },
  {
   "cell_type": "code",
   "execution_count": 10,
   "id": "37b977cf",
   "metadata": {},
   "outputs": [
    {
     "name": "stdout",
     "output_type": "stream",
     "text": [
      "Enter Phisics marks:=45\n",
      "Enter Chemistry marks:=56\n",
      "Enter Biology marks:=67\n",
      "Enter Mathematics marks:=65\n",
      "Enter Computer marks:=65\n",
      "your 59.6 and your Grade E\n"
     ]
    }
   ],
   "source": [
    "sub1=int(input(\"Enter Phisics marks:=\"))\n",
    "sub2=int(input(\"Enter Chemistry marks:=\"))\n",
    "sub3=int(input(\"Enter Biology marks:=\"))\n",
    "sub4=int(input(\"Enter Mathematics marks:=\"))\n",
    "sub5=int(input(\"Enter Computer marks:=\"))\n",
    "\n",
    "Percentage=(sub1+sub2+sub3+sub4+sub5)/5\n",
    "\n",
    "if sub1<35 or sub2<35 or sub3<35 or sub4<35 or sub5<35:\n",
    "    print(\"You are FAIL\")\n",
    "else:   \n",
    "    if Percentage >= 90 : \n",
    "        print(f\"your {Percentage} and your Grade A\") \n",
    "    elif Percentage >= 80 : \n",
    "        print(f\"your {Percentage} and your Grade B\") \n",
    "    elif Percentage >= 70 : \n",
    "        print(f\"your {Percentage} and your Grade C\") \n",
    "    elif Percentage >= 60 : \n",
    "        print(f\"your {Percentage} and your Grade D\") \n",
    "    elif Percentage >= 40 : \n",
    "        print(f\"your {Percentage} and your Grade E\") \n",
    "    elif Percentage < 40 : \n",
    "        print(f\"your {Percentage} and your Grade F\") \n"
   ]
  },
  {
   "cell_type": "markdown",
   "id": "419d4d22",
   "metadata": {},
   "source": [
    "### Write a Python program to input basic salary of an employee and calculate its Gross salary according to following: "
   ]
  },
  {
   "cell_type": "code",
   "execution_count": 20,
   "id": "1c370fea",
   "metadata": {},
   "outputs": [
    {
     "name": "stdout",
     "output_type": "stream",
     "text": [
      "Enter your basic salary=100000\n",
      "your gross_salary is= 101250.0\n"
     ]
    }
   ],
   "source": [
    "basic_salary=int(input(\"Enter your basic salary=\"))\n",
    "if basic_salary<=10000:\n",
    "    da=(basic_salary*80)/100\n",
    "    hra=(basic_salary*20)/100\n",
    "    gross_salary=basic_salary+da+hra\n",
    "    print(\"your gross_salary is=\",gross_salary)\n",
    "elif basic_salary<=20000:\n",
    "     da=(basic_salary*90)/100\n",
    "     hra=(basic_salary*25)/100\n",
    "     gross_salary=basic_salary+da+hra\n",
    "     print(\"your gross_salary is=\",gross_salary)\n",
    "elif basic_salary>20000:\n",
    "     da=(basic_salary*95)/100\n",
    "     hra=(basic_salary*30)/100\n",
    "     gross_salary=basic_salary+da+hra\n",
    "     print(\"your gross_salary is=\",gross_salary)  "
   ]
  },
  {
   "cell_type": "markdown",
   "id": "9af57b4f",
   "metadata": {},
   "source": [
    "### Write a Python program to count total number of notes in given amount."
   ]
  },
  {
   "cell_type": "code",
   "execution_count": 8,
   "id": "4112b50a",
   "metadata": {},
   "outputs": [
    {
     "name": "stdout",
     "output_type": "stream",
     "text": [
      "Please enter your amount50000\n",
      "please enter notes such as 1=2000,2=500,3=100,4=50,5=10=4\n",
      "number of 50 notes is= 1000\n"
     ]
    }
   ],
   "source": [
    "total_amount=int(input(\"Please enter your amount\"))   #10000\n",
    "\n",
    "rupees_notes=int(input(\"please enter notes such as 1=2000,2=500,3=100,4=50,5=10=\"))\n",
    "\n",
    "if rupees_notes==1:\n",
    "    result=total_amount//2000\n",
    "    print(\"number of 2000 notes is=\",result)\n",
    "\n",
    "elif rupees_notes==2:\n",
    "    result=total_amount//500\n",
    "    print(\"number of 500 notes is=\",result)   \n",
    "\n",
    "elif rupees_notes==3:\n",
    "    result=total_amount//100\n",
    "    print(\"number of 100 notes is=\",result)\n",
    "\n",
    "elif rupees_notes==4:\n",
    "    result=total_amount//50\n",
    "    print(\"number of 50 notes is=\",result)\n",
    "\n",
    "elif rupees_notes==5:\n",
    "    result=total_amount//10\n",
    "    print(\"number of 10 notes is=\",result)\n",
    "else:\n",
    "    print(\"Invalid value\")"
   ]
  },
  {
   "cell_type": "code",
   "execution_count": 4,
   "id": "4b20144a",
   "metadata": {},
   "outputs": [
    {
     "name": "stdout",
     "output_type": "stream",
     "text": [
      "enter the year2022\n",
      "enter the month1\n",
      "    January 2022\n",
      "Mo Tu We Th Fr Sa Su\n",
      "                1  2\n",
      " 3  4  5  6  7  8  9\n",
      "10 11 12 13 14 15 16\n",
      "17 18 19 20 21 22 23\n",
      "24 25 26 27 28 29 30\n",
      "31\n",
      "\n"
     ]
    }
   ],
   "source": [
    "import calendar\n",
    "year=int(input(\"enter the year\"))\n",
    "month=int(input(\"enter the month\"))   \n",
    "       \n",
    "print(calendar.month(year,month))"
   ]
  },
  {
   "cell_type": "code",
   "execution_count": 1,
   "id": "f1d5bb01",
   "metadata": {},
   "outputs": [
    {
     "data": {
      "text/plain": [
       "'C:\\\\Users\\\\BAPS'"
      ]
     },
     "execution_count": 1,
     "metadata": {},
     "output_type": "execute_result"
    }
   ],
   "source": [
    "pwd\n"
   ]
  },
  {
   "cell_type": "code",
   "execution_count": null,
   "id": "1d8cb849",
   "metadata": {},
   "outputs": [],
   "source": []
  }
 ],
 "metadata": {
  "kernelspec": {
   "display_name": "Python 3 (ipykernel)",
   "language": "python",
   "name": "python3"
  },
  "language_info": {
   "codemirror_mode": {
    "name": "ipython",
    "version": 3
   },
   "file_extension": ".py",
   "mimetype": "text/x-python",
   "name": "python",
   "nbconvert_exporter": "python",
   "pygments_lexer": "ipython3",
   "version": "3.10.2"
  }
 },
 "nbformat": 4,
 "nbformat_minor": 5
}
