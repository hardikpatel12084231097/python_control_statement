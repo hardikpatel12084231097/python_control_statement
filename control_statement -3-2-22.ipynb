{
 "cells": [
  {
   "cell_type": "code",
   "execution_count": 46,
   "id": "d054d68d",
   "metadata": {},
   "outputs": [],
   "source": [
    "# control statement is also known as decision making statement\n",
    "# syntax:\n",
    "#     if condition1:\n",
    "#         statement\n",
    "#     elif condition2:\n",
    "#         statement\n",
    "#     else:\n",
    "#         statement"
   ]
  },
  {
   "cell_type": "code",
   "execution_count": 3,
   "id": "7ba2a9e5",
   "metadata": {},
   "outputs": [
    {
     "name": "stdout",
     "output_type": "stream",
     "text": [
      "enter your age18\n",
      "yes\n"
     ]
    }
   ],
   "source": [
    "age=int(input(\"enter your age\"))\n",
    "if age>=18:\n",
    "    print(\"yes\")\n",
    "else:\n",
    "    print(\"no\")"
   ]
  },
  {
   "cell_type": "code",
   "execution_count": 23,
   "id": "09cb2ec7",
   "metadata": {},
   "outputs": [
    {
     "name": "stdout",
     "output_type": "stream",
     "text": [
      "enter your age :18\n",
      "You are eligible for work..\n"
     ]
    }
   ],
   "source": [
    "age=int(input(\"enter your age :\"))\n",
    "if age>=18 and age<=60:\n",
    "    print(\"You are eligible for work..\")\n",
    "else:\n",
    "    print(\"You are not eligible to work..\")"
   ]
  },
  {
   "cell_type": "markdown",
   "id": "c5b61f56",
   "metadata": {},
   "source": [
    "### write a program to find greatest of four number enterd by user"
   ]
  },
  {
   "cell_type": "code",
   "execution_count": 21,
   "id": "a326a43a",
   "metadata": {},
   "outputs": [
    {
     "name": "stdout",
     "output_type": "stream",
     "text": [
      "enter a number 1:11\n",
      "enter a number 2:11\n",
      "enter a number 3:11\n",
      "enter a number 4:11\n",
      "All are equal\n"
     ]
    }
   ],
   "source": [
    "n1=int(input(\"enter a number 1:\"))\n",
    "n2=int(input(\"enter a number 2:\"))\n",
    "n3=int(input(\"enter a number 3:\"))\n",
    "n4=int(input(\"enter a number 4:\"))\n",
    "\n",
    "if n1>n2 and n1>n3 and n1>n4:\n",
    "    print(f\"number1- {n1} is greatest\")\n",
    "elif n2>n1 and n2>n3 and n2>n4:\n",
    "    print(f\"number2- {n2} is greatest\")\n",
    "elif n3>n1 and n3>n2 and n3>n4:\n",
    "    print(f\"number3- {n3} is greatest\")\n",
    "elif n1==n2==n3==n4:\n",
    "    print(\"All are equal\")\n",
    "else:\n",
    "    print(f\"number4- {n4} is greatest\")"
   ]
  },
  {
   "cell_type": "markdown",
   "id": "556c438c",
   "metadata": {},
   "source": [
    "### write a program to find out whether a student is pass or fail, and it required 33 marks to fail and also 40% marks in overall subject to pass."
   ]
  },
  {
   "cell_type": "code",
   "execution_count": 24,
   "id": "7bf92725",
   "metadata": {},
   "outputs": [
    {
     "name": "stdout",
     "output_type": "stream",
     "text": [
      "Enter subject 1 marks:-33\n",
      "Enter subject 2 marks:-33\n",
      "Enter subject 3 marks:-33\n",
      "You are FAIL because your per% is less than 40%\n"
     ]
    }
   ],
   "source": [
    "sub1=int(input(\"Enter subject 1 marks:-\"))\n",
    "sub2=int(input(\"Enter subject 2 marks:-\"))\n",
    "sub3=int(input(\"Enter subject 3 marks:-\"))\n",
    "\n",
    "if sub1<33 and sub2<33 and sub3<33:\n",
    "    print(\"You are FAIL..\")\n",
    "elif (sub1+sub2+sub3)/3<40:\n",
    "    print(\"You are FAIL because your per% is less than 40%\")\n",
    "else:\n",
    "    print(\"Congratulation you are PASS..\")"
   ]
  },
  {
   "cell_type": "markdown",
   "id": "36e1e7dd",
   "metadata": {},
   "source": [
    "### write a program to find whether given username contain less than 10 character or not in python"
   ]
  },
  {
   "cell_type": "code",
   "execution_count": 61,
   "id": "f44d7c12",
   "metadata": {},
   "outputs": [],
   "source": [
    "name='hello'"
   ]
  },
  {
   "cell_type": "code",
   "execution_count": 62,
   "id": "2726d4d2",
   "metadata": {},
   "outputs": [
    {
     "data": {
      "text/plain": [
       "5"
      ]
     },
     "execution_count": 62,
     "metadata": {},
     "output_type": "execute_result"
    }
   ],
   "source": [
    "len(name)"
   ]
  },
  {
   "cell_type": "code",
   "execution_count": 63,
   "id": "d85836f4",
   "metadata": {},
   "outputs": [
    {
     "data": {
      "text/plain": [
       "str"
      ]
     },
     "execution_count": 63,
     "metadata": {},
     "output_type": "execute_result"
    }
   ],
   "source": [
    "type(name)"
   ]
  },
  {
   "cell_type": "code",
   "execution_count": 64,
   "id": "8559b5ca",
   "metadata": {},
   "outputs": [
    {
     "name": "stdout",
     "output_type": "stream",
     "text": [
      "Username is less than 10 character\n"
     ]
    }
   ],
   "source": [
    "if len(name)<10:\n",
    "    print(\"Username is less than 10 character\")\n",
    "else:\n",
    "     print(\"Username is not less than 10 character\")"
   ]
  },
  {
   "cell_type": "markdown",
   "id": "dd540a76",
   "metadata": {},
   "source": [
    "### write a program which finds out whether a given name is present in list or not"
   ]
  },
  {
   "cell_type": "code",
   "execution_count": 72,
   "id": "b6c08bc6",
   "metadata": {},
   "outputs": [
    {
     "name": "stdout",
     "output_type": "stream",
     "text": [
      "enter the name to check is available :-hello1\n",
      "no this name is not present\n"
     ]
    }
   ],
   "source": [
    "l1=['hello','hardik','sonu']\n",
    "name=input(\"enter the name to check is available :-\")\n",
    "if name in l1:\n",
    "    print(\"yes this name is present\")\n",
    "else:\n",
    "     print(\"no this name is not present\")"
   ]
  },
  {
   "cell_type": "markdown",
   "id": "7daec279",
   "metadata": {},
   "source": [
    "### write a program to calculate the grade of a student from his marks from the following scheme:"
   ]
  },
  {
   "cell_type": "code",
   "execution_count": 13,
   "id": "c22cda45",
   "metadata": {
    "scrolled": true
   },
   "outputs": [
    {
     "name": "stdout",
     "output_type": "stream",
     "text": [
      "Enter subject 1 marks:-56\n",
      "Enter subject 2 marks:-78\n",
      "Enter subject 3 marks:-98\n",
      "Enter subject 4 marks:-90\n",
      "Enter subject 5 marks:-87\n",
      "Enter subject 6 marks:-78\n",
      "Enter subject 7 marks:-78\n",
      "Congratulation you are PASS and your % 80.71428571428571 and grade is A\n"
     ]
    }
   ],
   "source": [
    "sub1=int(input(\"Enter subject 1 marks:-\"))\n",
    "sub2=int(input(\"Enter subject 2 marks:-\"))\n",
    "sub3=int(input(\"Enter subject 3 marks:-\"))\n",
    "sub4=int(input(\"Enter subject 4 marks:-\"))\n",
    "sub5=int(input(\"Enter subject 5 marks:-\"))\n",
    "sub6=int(input(\"Enter subject 6 marks:-\"))\n",
    "sub7=int(input(\"Enter subject 7 marks:-\"))\n",
    "\n",
    "avg=(sub1+sub2+sub3+sub4+sub5+sub6+sub7)/7\n",
    "\n",
    "if sub1<35 and sub2<35 and sub3<35 and sub4<35 and sub5<35 and sub6<35 and sub7<35:\n",
    "    print(\"You are FAIL..because your maks under in 35\")   \n",
    "elif avg>=90:\n",
    "    print(f\"Congratulation you are PASS and your % {avg} and grade is EXCELLENT\")\n",
    "elif avg>=80 and avg<90:\n",
    "    print(f\"Congratulation you are PASS and your % {avg} and grade is A\")\n",
    "elif avg>=70 and avg<60:\n",
    "    print(f\"Congratulation you are PASS and your % {avg} and grade is B\")\n",
    "elif avg>=60 and avg<70:\n",
    "    print(f\"Congratulation you are PASS and your % {avg} and grade is C\")\n",
    "elif avg>=50 and avg<60:\n",
    "    print(f\"Congratulation you are PASS and your % {avg} and grade is D\")\n",
    "elif avg>=35 and avg<50:\n",
    "    print(f\"Congratulation you are PASS and your % {avg} and grade is E\")\n",
    "    \n",
    "# elif avg>35:\n",
    "#     print(\"Welcome to our School :- ADARSH VIDHYALAYA SIPOR\")\n"
   ]
  },
  {
   "cell_type": "code",
   "execution_count": null,
   "id": "a7d75f1b",
   "metadata": {},
   "outputs": [],
   "source": []
  },
  {
   "cell_type": "code",
   "execution_count": null,
   "id": "2f2b8e0a",
   "metadata": {},
   "outputs": [],
   "source": [
    "z"
   ]
  }
 ],
 "metadata": {
  "kernelspec": {
   "display_name": "Python 3 (ipykernel)",
   "language": "python",
   "name": "python3"
  },
  "language_info": {
   "codemirror_mode": {
    "name": "ipython",
    "version": 3
   },
   "file_extension": ".py",
   "mimetype": "text/x-python",
   "name": "python",
   "nbconvert_exporter": "python",
   "pygments_lexer": "ipython3",
   "version": "3.10.2"
  }
 },
 "nbformat": 4,
 "nbformat_minor": 5
}
